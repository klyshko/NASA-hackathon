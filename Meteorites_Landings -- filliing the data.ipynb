{
 "cells": [
  {
   "cell_type": "code",
   "execution_count": 1,
   "metadata": {},
   "outputs": [],
   "source": [
    "import numpy as np                       \n",
    "import pandas as pd                      \n",
    "import matplotlib.pyplot as plt          \n",
    "import seaborn as sns "
   ]
  },
  {
   "cell_type": "code",
   "execution_count": 2,
   "metadata": {},
   "outputs": [],
   "source": [
    "data = pd.read_excel('data_clean_1.xlsx')"
   ]
  },
  {
   "cell_type": "code",
   "execution_count": 3,
   "metadata": {},
   "outputs": [
    {
     "name": "stdout",
     "output_type": "stream",
     "text": [
      "<class 'pandas.core.frame.DataFrame'>\n",
      "RangeIndex: 34346 entries, 0 to 34345\n",
      "Data columns (total 8 columns):\n",
      "Unnamed: 0    34346 non-null int64\n",
      "nametype      34346 non-null int64\n",
      "recclass      34346 non-null int64\n",
      "mass (g)      34346 non-null float64\n",
      "fall          34346 non-null int64\n",
      "year          34346 non-null int64\n",
      "reclat        34346 non-null float64\n",
      "reclong       34346 non-null float64\n",
      "dtypes: float64(3), int64(5)\n",
      "memory usage: 2.1 MB\n"
     ]
    }
   ],
   "source": [
    "data.info()"
   ]
  },
  {
   "cell_type": "code",
   "execution_count": 4,
   "metadata": {},
   "outputs": [],
   "source": [
    "data = data.drop('Unnamed: 0', axis = 1)"
   ]
  },
  {
   "cell_type": "code",
   "execution_count": 5,
   "metadata": {},
   "outputs": [
    {
     "data": {
      "text/plain": [
       "333    7355\n",
       "184    6107\n",
       "191    3833\n",
       "175    3809\n",
       "327    3192\n",
       "374    2192\n",
       "378    1637\n",
       "319     915\n",
       "182     385\n",
       "44      328\n",
       "135     308\n",
       "46      307\n",
       "276     266\n",
       "339     223\n",
       "462     211\n",
       "74      205\n",
       "369     195\n",
       "64      179\n",
       "197     176\n",
       "68      173\n",
       "109     168\n",
       "190     163\n",
       "60      116\n",
       "103     115\n",
       "228     112\n",
       "201     104\n",
       "414     101\n",
       "345      88\n",
       "407      84\n",
       "298      83\n",
       "108      77\n",
       "332      75\n",
       "37       75\n",
       "429      69\n",
       "159      68\n",
       "82       67\n",
       "112      67\n",
       "106      63\n",
       "395      62\n",
       "237      57\n",
       "413      57\n",
       "186      56\n",
       "334      54\n",
       "163      54\n",
       "343      54\n",
       "179      54\n",
       "204      53\n",
       "34       52\n",
       "97       51\n",
       "218      51\n",
       "Name: recclass, dtype: int64"
      ]
     },
     "execution_count": 5,
     "metadata": {},
     "output_type": "execute_result"
    }
   ],
   "source": [
    "data.recclass.value_counts()"
   ]
  },
  {
   "cell_type": "code",
   "execution_count": 6,
   "metadata": {},
   "outputs": [],
   "source": [
    "from sklearn import preprocessing\n",
    "le = preprocessing.LabelEncoder()\n",
    "le.fit(data.recclass)\n",
    "data.recclass = le.transform(data.recclass)"
   ]
  },
  {
   "cell_type": "code",
   "execution_count": 7,
   "metadata": {},
   "outputs": [
    {
     "data": {
      "text/html": [
       "<div>\n",
       "<style scoped>\n",
       "    .dataframe tbody tr th:only-of-type {\n",
       "        vertical-align: middle;\n",
       "    }\n",
       "\n",
       "    .dataframe tbody tr th {\n",
       "        vertical-align: top;\n",
       "    }\n",
       "\n",
       "    .dataframe thead th {\n",
       "        text-align: right;\n",
       "    }\n",
       "</style>\n",
       "<table border=\"1\" class=\"dataframe\">\n",
       "  <thead>\n",
       "    <tr style=\"text-align: right;\">\n",
       "      <th></th>\n",
       "      <th>nametype</th>\n",
       "      <th>recclass</th>\n",
       "      <th>mass (g)</th>\n",
       "      <th>fall</th>\n",
       "      <th>year</th>\n",
       "      <th>reclat</th>\n",
       "      <th>reclong</th>\n",
       "    </tr>\n",
       "  </thead>\n",
       "  <tbody>\n",
       "    <tr>\n",
       "      <td>0</td>\n",
       "      <td>0</td>\n",
       "      <td>34</td>\n",
       "      <td>21.0</td>\n",
       "      <td>0</td>\n",
       "      <td>1880</td>\n",
       "      <td>50.77500</td>\n",
       "      <td>6.08333</td>\n",
       "    </tr>\n",
       "    <tr>\n",
       "      <td>1</td>\n",
       "      <td>0</td>\n",
       "      <td>24</td>\n",
       "      <td>720.0</td>\n",
       "      <td>0</td>\n",
       "      <td>1951</td>\n",
       "      <td>56.18333</td>\n",
       "      <td>10.23333</td>\n",
       "    </tr>\n",
       "    <tr>\n",
       "      <td>2</td>\n",
       "      <td>0</td>\n",
       "      <td>36</td>\n",
       "      <td>780.0</td>\n",
       "      <td>0</td>\n",
       "      <td>1902</td>\n",
       "      <td>-33.16667</td>\n",
       "      <td>-64.95000</td>\n",
       "    </tr>\n",
       "    <tr>\n",
       "      <td>3</td>\n",
       "      <td>0</td>\n",
       "      <td>36</td>\n",
       "      <td>1620.0</td>\n",
       "      <td>0</td>\n",
       "      <td>1930</td>\n",
       "      <td>-31.60000</td>\n",
       "      <td>-65.23333</td>\n",
       "    </tr>\n",
       "    <tr>\n",
       "      <td>4</td>\n",
       "      <td>0</td>\n",
       "      <td>36</td>\n",
       "      <td>779.0</td>\n",
       "      <td>0</td>\n",
       "      <td>1949</td>\n",
       "      <td>29.51667</td>\n",
       "      <td>35.05000</td>\n",
       "    </tr>\n",
       "    <tr>\n",
       "      <td>...</td>\n",
       "      <td>...</td>\n",
       "      <td>...</td>\n",
       "      <td>...</td>\n",
       "      <td>...</td>\n",
       "      <td>...</td>\n",
       "      <td>...</td>\n",
       "      <td>...</td>\n",
       "    </tr>\n",
       "    <tr>\n",
       "      <td>34341</td>\n",
       "      <td>0</td>\n",
       "      <td>43</td>\n",
       "      <td>76.0</td>\n",
       "      <td>1</td>\n",
       "      <td>1973</td>\n",
       "      <td>20.25000</td>\n",
       "      <td>-12.68333</td>\n",
       "    </tr>\n",
       "    <tr>\n",
       "      <td>34342</td>\n",
       "      <td>0</td>\n",
       "      <td>36</td>\n",
       "      <td>1475.0</td>\n",
       "      <td>1</td>\n",
       "      <td>1990</td>\n",
       "      <td>29.03700</td>\n",
       "      <td>17.01850</td>\n",
       "    </tr>\n",
       "    <tr>\n",
       "      <td>34343</td>\n",
       "      <td>0</td>\n",
       "      <td>10</td>\n",
       "      <td>172.0</td>\n",
       "      <td>1</td>\n",
       "      <td>1990</td>\n",
       "      <td>29.03700</td>\n",
       "      <td>17.01850</td>\n",
       "    </tr>\n",
       "    <tr>\n",
       "      <td>34344</td>\n",
       "      <td>0</td>\n",
       "      <td>18</td>\n",
       "      <td>3.3</td>\n",
       "      <td>1</td>\n",
       "      <td>1939</td>\n",
       "      <td>49.25000</td>\n",
       "      <td>17.66667</td>\n",
       "    </tr>\n",
       "    <tr>\n",
       "      <td>34345</td>\n",
       "      <td>0</td>\n",
       "      <td>36</td>\n",
       "      <td>2167.0</td>\n",
       "      <td>1</td>\n",
       "      <td>2003</td>\n",
       "      <td>49.78917</td>\n",
       "      <td>41.50460</td>\n",
       "    </tr>\n",
       "  </tbody>\n",
       "</table>\n",
       "<p>34346 rows × 7 columns</p>\n",
       "</div>"
      ],
      "text/plain": [
       "       nametype  recclass  mass (g)  fall  year    reclat   reclong\n",
       "0             0        34      21.0     0  1880  50.77500   6.08333\n",
       "1             0        24     720.0     0  1951  56.18333  10.23333\n",
       "2             0        36     780.0     0  1902 -33.16667 -64.95000\n",
       "3             0        36    1620.0     0  1930 -31.60000 -65.23333\n",
       "4             0        36     779.0     0  1949  29.51667  35.05000\n",
       "...         ...       ...       ...   ...   ...       ...       ...\n",
       "34341         0        43      76.0     1  1973  20.25000 -12.68333\n",
       "34342         0        36    1475.0     1  1990  29.03700  17.01850\n",
       "34343         0        10     172.0     1  1990  29.03700  17.01850\n",
       "34344         0        18       3.3     1  1939  49.25000  17.66667\n",
       "34345         0        36    2167.0     1  2003  49.78917  41.50460\n",
       "\n",
       "[34346 rows x 7 columns]"
      ]
     },
     "execution_count": 7,
     "metadata": {},
     "output_type": "execute_result"
    }
   ],
   "source": [
    "data"
   ]
  },
  {
   "cell_type": "code",
   "execution_count": 14,
   "metadata": {},
   "outputs": [],
   "source": [
    "from lightgbm import LGBMClassifier\n",
    "#from imblearn.over_sampling import SMOTE"
   ]
  },
  {
   "cell_type": "code",
   "execution_count": 11,
   "metadata": {},
   "outputs": [],
   "source": [
    "from sklearn.model_selection import cross_val_score\n",
    "from sklearn.metrics import accuracy_score\n",
    "from sklearn.metrics import confusion_matrix\n",
    "\n",
    "from sklearn.model_selection import train_test_split"
   ]
  },
  {
   "cell_type": "code",
   "execution_count": 15,
   "metadata": {},
   "outputs": [],
   "source": [
    "y = data['recclass']\n",
    "X = data.drop('recclass', axis = 1)"
   ]
  },
  {
   "cell_type": "code",
   "execution_count": 16,
   "metadata": {},
   "outputs": [],
   "source": [
    "X_train, X_test, y_train, y_test = train_test_split(X, y, random_state=420)"
   ]
  },
  {
   "cell_type": "code",
   "execution_count": 17,
   "metadata": {},
   "outputs": [],
   "source": [
    "clf = LGBMClassifier()\n",
    "clf.fit(X_train, y_train)\n",
    "\n",
    "y_pred = clf.predict(X_test)\n",
    "test_score = f1_score(y_pred, y_test, average='weighted')"
   ]
  },
  {
   "cell_type": "code",
   "execution_count": 18,
   "metadata": {},
   "outputs": [
    {
     "data": {
      "text/plain": [
       "array([[1, 0, 0, ..., 0, 0, 0],\n",
       "       [0, 1, 0, ..., 0, 0, 0],\n",
       "       [0, 0, 5, ..., 0, 0, 0],\n",
       "       ...,\n",
       "       [0, 0, 0, ..., 8, 0, 0],\n",
       "       [0, 0, 0, ..., 0, 4, 0],\n",
       "       [0, 0, 2, ..., 0, 0, 1]])"
      ]
     },
     "execution_count": 18,
     "metadata": {},
     "output_type": "execute_result"
    }
   ],
   "source": [
    "confusion_matrix(y_test, y_pred)"
   ]
  },
  {
   "cell_type": "code",
   "execution_count": 19,
   "metadata": {},
   "outputs": [],
   "source": [
    "import sys\n",
    "import numpy\n",
    "numpy.set_printoptions(threshold=sys.maxsize)"
   ]
  },
  {
   "cell_type": "code",
   "execution_count": 20,
   "metadata": {},
   "outputs": [
    {
     "data": {
      "text/plain": [
       "array([[  1,   0,   0,   0,   0,   0,   0,   0,   0,   0,   1,   0,   0,\n",
       "          0,   0,   0,   0,   0,   1,   0,   0,   3,   0,   0,   0,   0,\n",
       "          0,   0,   0,   0,   0,   0,   0,   0,   0,   0,   5,   0,   0,\n",
       "          0,   0,   0,   1,   1,   0,   0,   0,   0,   0,   0],\n",
       "       [  0,   1,   0,   0,   0,   0,   0,   0,   0,   0,   0,   0,   0,\n",
       "          0,   0,   0,   0,   0,   1,   0,   0,   0,   0,   0,   1,   0,\n",
       "          0,   0,   0,   0,   0,   0,   0,   0,   0,   0,  14,   0,   0,\n",
       "          0,   0,   0,   0,   0,   0,   0,   0,   0,   0,   0],\n",
       "       [  0,   0,   5,   0,   0,   0,   0,   0,   0,   1,   0,   1,   0,\n",
       "          1,   0,   1,   0,   0,  20,   0,   2,   9,   0,   0,   3,   1,\n",
       "          0,   2,   0,   1,   0,   1,   0,   0,   7,   0,  22,   0,   1,\n",
       "          0,   0,   0,   9,   5,   0,   0,   0,   0,   0,   0],\n",
       "       [  0,   0,   0,  12,   0,   0,   1,   0,   0,   3,   0,   0,   0,\n",
       "          0,   0,   0,   0,   0,   8,   0,   0,   0,   0,   1,  15,   0,\n",
       "          0,   0,   0,   0,   0,   0,   1,   1,   1,   0,  24,   0,   0,\n",
       "          0,   0,   0,   0,   6,   0,   0,   0,   1,   0,   0],\n",
       "       [  0,   0,   0,   0,   7,   1,   0,   1,   0,   0,   0,   1,   0,\n",
       "          0,   0,   0,   1,   0,   1,   0,   1,   3,   0,   0,   1,   0,\n",
       "          0,   0,   0,   1,   0,   0,   0,   1,   0,   0,   9,   0,   0,\n",
       "          1,   0,   0,   1,   0,   0,   0,   0,   0,   0,   0],\n",
       "       [  0,   0,   0,   1,   0,   1,   0,   0,   0,   1,   0,   0,   1,\n",
       "          0,   0,   0,   0,   0,   3,   0,   0,   6,   0,   0,   4,   0,\n",
       "          1,   0,   0,   1,   0,   0,   0,   0,   2,   0,  23,   0,   0,\n",
       "          0,   0,   0,   3,   6,   0,   0,   0,   0,   1,   0],\n",
       "       [  0,   0,   1,   1,   0,   0,   1,   0,   0,   0,   1,   0,   0,\n",
       "          0,   0,   0,   1,   0,  12,   0,   0,   3,   0,   0,   2,   0,\n",
       "          0,   0,   0,   0,   0,   0,   0,   0,   1,   0,  11,   0,   0,\n",
       "          0,   0,   0,   1,   1,   0,   0,   0,   0,   0,   0],\n",
       "       [  0,   0,   0,   0,   0,   0,   0,  33,   0,   0,   0,   0,   0,\n",
       "          0,   0,   0,   0,   0,   6,   0,   3,   1,   0,   0,   0,   0,\n",
       "          0,   0,   0,   0,   0,   0,   0,   0,   0,   0,   0,   0,   0,\n",
       "          0,   0,   0,   0,   0,   0,   0,   0,   0,   0,   0],\n",
       "       [  0,   0,   1,   0,   0,   0,   0,   0,   3,   0,   0,   0,   0,\n",
       "          0,   0,   0,   0,   0,   1,   0,   0,   1,   1,   0,   2,   0,\n",
       "          0,   0,   0,   0,   0,   0,   1,   0,   0,   0,   7,   0,   0,\n",
       "          0,   0,   0,   0,   0,   0,   0,   0,   0,   0,   0],\n",
       "       [  0,   0,   1,   0,   0,   0,   0,   0,   0,   0,   0,   0,   0,\n",
       "          0,   0,   0,   0,   0,   3,   0,   0,   5,   0,   0,   0,   0,\n",
       "          0,   0,   0,   2,   0,   0,   0,   0,   0,   0,   3,   0,   0,\n",
       "          0,   0,   0,   1,   0,   0,   0,   0,   0,   0,   0],\n",
       "       [  0,   1,   0,   0,   0,   0,   0,   0,   0,   0,   3,   0,   0,\n",
       "          0,   0,   0,   0,   0,   8,   0,   0,   5,   0,   0,   0,   0,\n",
       "          0,   0,   0,   0,   0,   0,   0,   0,   0,   0,   7,   0,   0,\n",
       "          1,   1,   0,   1,   3,   0,   0,   0,   2,   0,   0],\n",
       "       [  0,   0,   0,   0,   0,   0,   0,   0,   0,   0,   0,   1,   0,\n",
       "          0,   0,   0,   0,   0,   2,   0,   0,   1,   0,   0,   2,   0,\n",
       "          0,   0,   0,   0,   0,   0,   0,   0,   1,   0,   1,   0,   0,\n",
       "          0,   0,   0,   1,   2,   0,   0,   0,   0,   0,   0],\n",
       "       [  0,   0,   0,   0,   0,   0,   0,   0,   0,   1,   0,   0,   1,\n",
       "          0,   0,   0,   0,   0,   4,   0,   0,   3,   0,   0,   0,   0,\n",
       "          0,   0,   0,   0,   0,   0,   0,   0,   0,   0,   7,   0,   0,\n",
       "          0,   0,   0,   2,   1,   0,   0,   0,   0,   0,   0],\n",
       "       [  0,   0,   0,   0,   0,   0,   2,   0,   0,   2,   1,   0,   0,\n",
       "          4,   0,   0,   0,   0,   6,   0,   0,   6,   0,   0,   5,   1,\n",
       "          0,   0,   0,   0,   0,   0,   0,   0,   1,   0,  15,   0,   1,\n",
       "          0,   0,   0,   0,   3,   0,   1,   0,   1,   0,   0],\n",
       "       [  0,   0,   0,   0,   0,   0,   0,   1,   0,   0,   0,   0,   0,\n",
       "          0,   0,   0,   0,   0,   5,   0,   0,   4,   0,   0,   2,   0,\n",
       "          0,   1,   0,   0,   0,   0,   0,   0,   0,   0,   2,   0,   0,\n",
       "          0,   0,   0,   0,   0,   1,   0,   0,   0,   0,   0],\n",
       "       [  1,   0,   0,   0,   1,   1,   0,   1,   0,   2,   0,   0,   0,\n",
       "          0,   0,   7,   0,   0,  26,   0,   1,   8,   0,   1,   3,   0,\n",
       "          0,   0,   1,   0,   0,   1,   0,   0,   3,   0,   7,   0,   1,\n",
       "          0,   0,   0,   0,   1,   0,   1,   0,   0,   0,   0],\n",
       "       [  0,   0,   0,   0,   0,   0,   0,   0,   0,   0,   0,   0,   0,\n",
       "          0,   0,   0,   0,   1,   8,   0,   0,   3,   0,   0,   1,   0,\n",
       "          0,   0,   0,   0,   0,   1,   0,   0,   0,   0,   2,   0,   0,\n",
       "          0,   0,   0,   0,   0,   0,   0,   0,   0,   0,   0],\n",
       "       [  0,   0,   0,   0,   0,   0,   0,   0,   0,   0,   0,   1,   0,\n",
       "          0,   0,   0,   0,   0,   3,   0,   0,   8,   0,   0,   1,   0,\n",
       "          0,   0,   0,   0,   0,   0,   0,   1,   0,   0,   2,   0,   0,\n",
       "          0,   0,   0,   1,   0,   0,   0,   0,   0,   0,   0],\n",
       "       [  0,   0,   2,   1,   2,   1,   1,  19,   0,   5,   1,   4,   3,\n",
       "          0,   0,   6,   0,   0, 501,   0,  12, 165,   5,   3,  52,   0,\n",
       "          1,   1,   0,   1,   0,   4,   6,   2,  22,   1, 145,   0,  10,\n",
       "          0,   0,   0,   4,   8,   1,   5,   3,   2,   2,   0],\n",
       "       [  0,   0,   0,   0,   0,   0,   0,   0,   0,   0,   0,   0,   0,\n",
       "          0,   0,   1,   0,   0,   2,   0,   0,   3,   0,   0,   0,   0,\n",
       "          1,   0,   0,   0,   0,   0,   0,   0,   0,   0,   2,   0,   0,\n",
       "          0,   0,   0,   0,   0,   0,   0,   0,   0,   0,   0],\n",
       "       [  0,   0,   0,   0,   0,   0,   0,   5,   0,   0,   0,   1,   0,\n",
       "          0,   0,   0,   0,   0,  43,   0,  13,  15,   0,   0,   3,   0,\n",
       "          0,   0,   0,   0,   0,   0,   0,   0,   0,   0,  14,   0,   3,\n",
       "          0,   0,   0,   0,   0,   0,   0,   0,   0,   0,   0],\n",
       "       [  1,   2,   2,   7,   7,   0,   1,   7,   5,   1,   0,   7,   0,\n",
       "          5,   2,   3,   2,   0, 179,   3,  14, 565,   6,   9,  98,   0,\n",
       "          8,  11,   0,   3,   1,   3,   8,  10,  88,   3, 335,   1,   9,\n",
       "          2,   2,   2,  37,  18,   4,   3,   0,   2,   2,   2],\n",
       "       [  0,   0,   0,   0,   0,   0,   0,   0,   0,   0,   0,   0,   0,\n",
       "          0,   0,   0,   0,   0,   1,   0,   0,   4,   0,   1,   2,   0,\n",
       "          0,   0,   0,   0,   0,   0,   0,   0,   0,   0,   9,   0,   0,\n",
       "          0,   0,   0,   0,   0,   0,   1,   0,   0,   0,   0],\n",
       "       [  0,   0,   0,   0,   0,   0,   0,   0,   0,   0,   0,   0,   0,\n",
       "          0,   0,   1,   0,   0,   0,   0,   0,  15,   0,   5,   3,   0,\n",
       "          0,   0,   0,   0,   0,   1,   0,   1,   0,   0,  12,   0,   0,\n",
       "          0,   0,   0,   0,   0,   0,   0,   1,   0,   0,   0],\n",
       "       [  1,   1,   1,  12,   3,   0,   1,   8,   1,   3,   3,   6,   1,\n",
       "          1,   0,   3,   0,   1, 119,   2,  10, 233,   3,   1, 158,   0,\n",
       "          7,   1,   0,   1,   0,   0,   5,   3,  49,   2, 275,   0,   5,\n",
       "          0,   1,   0,  25,  16,   7,   2,   1,   1,   1,   0],\n",
       "       [  0,   0,   1,   0,   1,   0,   0,   0,   0,   1,   0,   0,   0,\n",
       "          0,   1,   0,   0,   0,   5,   0,   1,   7,   0,   0,   0,   1,\n",
       "          0,   0,   0,   0,   0,   0,   0,   0,   2,   0,   9,   0,   0,\n",
       "          0,   0,   0,   2,   6,   1,   0,   1,   0,   1,   1],\n",
       "       [  0,   0,   0,   0,   1,   0,   0,   0,   0,   0,   0,   0,   0,\n",
       "          0,   0,   0,   0,   0,   2,   0,   0,   3,   0,   0,   1,   0,\n",
       "         14,   0,   0,   0,   0,   0,   0,   0,   0,   0,   4,   0,   0,\n",
       "          0,   0,   0,   1,   0,   0,   4,   0,   0,   0,   0],\n",
       "       [  0,   0,   0,   0,   0,   1,   0,   0,   0,   0,   0,   0,   0,\n",
       "          0,   0,   0,   0,   0,   1,   0,   0,   4,   0,   0,   4,   0,\n",
       "          0,   0,   1,   1,   0,   0,   0,   0,   0,   0,   3,   0,   0,\n",
       "          0,   0,   0,   0,   0,   0,   0,   0,   0,   0,   0],\n",
       "       [  0,   0,   0,   0,   0,   0,   0,   0,   0,   0,   0,   0,   0,\n",
       "          0,   0,   0,   0,   0,   0,   0,   0,   1,   0,   0,   0,   0,\n",
       "          0,   0,   4,   4,   0,   0,   0,   0,   0,   0,   4,   0,   0,\n",
       "          0,   0,   0,   0,   0,   0,   0,   0,   0,   0,   0],\n",
       "       [  1,   0,   0,   0,   0,   0,   0,   0,   0,   0,   0,   0,   0,\n",
       "          0,   1,   0,   0,   0,   0,   0,   0,   5,   0,   0,   2,   0,\n",
       "          0,   0,   0,   6,   2,   0,   0,   0,   3,   0,   9,   0,   0,\n",
       "          0,   0,   0,   0,   1,   0,   0,   0,   0,   0,   0],\n",
       "       [  0,   0,   0,   0,   0,   0,   0,   0,   0,   0,   0,   0,   0,\n",
       "          0,   0,   0,   0,   0,   1,   0,   0,   2,   0,   0,   0,   0,\n",
       "          0,   0,   0,   0,   1,   0,   0,   0,   1,   0,   4,   0,   0,\n",
       "          0,   0,   0,   0,   0,   0,   0,   0,   0,   0,   0],\n",
       "       [  0,   0,   1,   0,   0,   0,   1,   0,   0,   0,   0,   1,   0,\n",
       "          0,   0,   1,   0,   0,  20,   0,   1,  10,   0,   0,   1,   0,\n",
       "          0,   0,   0,   0,   0,   2,   0,   1,   0,   0,  18,   0,   0,\n",
       "          0,   1,   0,   2,   2,   0,   0,   0,   0,   0,   0],\n",
       "       [  0,   0,   0,   0,   0,   0,   0,   0,   0,   0,   0,   0,   0,\n",
       "          0,   0,   0,   0,   0,   4,   0,   0,  12,   0,   0,   0,   0,\n",
       "          0,   0,   0,   0,   1,   0,   1,   0,   0,   0,   4,   0,   0,\n",
       "          0,   0,   0,   0,   0,   0,   0,   0,   0,   0,   0],\n",
       "       [  1,   0,   0,   0,   0,   2,   0,   1,   0,   1,   2,   1,   0,\n",
       "          1,   0,   0,   0,   0,  42,   0,   1,  38,   1,   0,   9,   0,\n",
       "          3,   2,   0,   0,   0,   1,   0,  12,  13,   1,  68,   0,   1,\n",
       "          0,   0,   0,   1,   1,   0,   2,   1,   0,   0,   0],\n",
       "       [  2,   1,   2,   1,   2,   1,   0,   0,   2,   2,   0,   1,   0,\n",
       "          1,   0,   2,   1,   0,  32,   3,   3, 105,   1,   5,  29,   0,\n",
       "          1,   0,   0,   1,   0,   0,   2,   2, 224,   3, 243,   4,   1,\n",
       "          1,   1,   1,  33,  37,   1,   0,   2,   1,   1,   0],\n",
       "       [  0,   0,   0,   0,   0,   0,   0,   0,   0,   0,   0,   0,   0,\n",
       "          0,   0,   0,   0,   0,   1,   0,   0,   4,   0,   0,   0,   0,\n",
       "          0,   0,   0,   0,   0,   0,   2,   0,   0,   0,   9,   0,   0,\n",
       "          0,   0,   0,   0,   0,   0,   0,   0,   0,   0,   1],\n",
       "       [  1,   6,   8,   6,  10,   1,   2,   5,   1,  10,   2,   3,   3,\n",
       "          6,   2,   1,   1,   2, 192,   0,  11, 304,   6,   6,  70,   3,\n",
       "          6,   4,   0,   3,   0,   6,   5,  11, 100,   0, 993,   7,   7,\n",
       "          3,   0,   2,  23,  42,   3,   6,   1,   4,   2,   2],\n",
       "       [  0,   0,   0,   0,   0,   0,   0,   0,   0,   0,   0,   0,   0,\n",
       "          0,   0,   0,   0,   0,   0,   0,   0,   0,   0,   0,   0,   0,\n",
       "          0,   0,   0,   0,   0,   0,   0,   0,   1,   0,  10,   0,   0,\n",
       "          0,   0,   0,   0,   0,   0,   0,   0,   0,   0,   0],\n",
       "       [  0,   0,   0,   0,   0,   0,   0,   0,   0,   0,   0,   0,   0,\n",
       "          0,   0,   0,   0,   0,  28,   0,   5,   0,   0,   0,   2,   0,\n",
       "          0,   0,   0,   0,   0,   0,   0,   0,   0,   0,   3,   0,   1,\n",
       "          0,   0,   0,   0,   0,   0,   0,   0,   0,   0,   0],\n",
       "       [  0,   0,   0,   0,   0,   0,   0,   0,   0,   0,   0,   0,   0,\n",
       "          0,   0,   0,   0,   0,  13,   0,   0,   0,   0,   0,   0,   0,\n",
       "          0,   0,   0,   0,   0,   0,   0,   0,   0,   0,   0,   0,   0,\n",
       "          0,   0,   0,   0,   0,   0,   0,   0,   0,   0,   0],\n",
       "       [  0,   0,   0,   0,   0,   0,   0,   1,   0,   0,   1,   0,   0,\n",
       "          0,   0,   0,   0,   0,   5,   0,   0,   7,   0,   0,   1,   0,\n",
       "          0,   0,   0,   0,   0,   1,   0,   0,   1,   0,   4,   0,   0,\n",
       "          0,   0,   0,   0,   0,   0,   0,   0,   0,   0,   0],\n",
       "       [  0,   1,   0,   1,   0,   0,   0,   0,   0,   0,   0,   0,   0,\n",
       "          0,   0,   0,   0,   0,   8,   1,   0,  11,   0,   0,   3,   1,\n",
       "          0,   0,   0,   0,   0,   1,   0,   1,   1,   0,  12,   0,   2,\n",
       "          0,   1,   2,   2,   1,   0,   0,   1,   0,   0,   0],\n",
       "       [  1,   1,   0,   5,   1,   0,   1,   0,   0,   1,   1,   1,   0,\n",
       "          0,   0,   0,   0,   0,   5,   0,   0,  20,   2,   0,  14,   0,\n",
       "          0,   0,   0,   0,   1,   0,   0,   1,  29,   0,  52,   0,   0,\n",
       "          1,   0,   0, 392,  36,   0,   1,   0,   0,   1,   0],\n",
       "       [  0,   3,   1,   3,   1,   1,   2,   4,   0,   3,   1,   1,   0,\n",
       "          0,   1,   0,   1,   1,  46,   0,   5,  37,   1,   0,  29,   0,\n",
       "          3,   0,   1,   2,   0,   0,   0,   1,  34,   0, 100,   0,   5,\n",
       "          4,   0,   0,  16,  87,   2,   0,   2,   2,   0,   1],\n",
       "       [  0,   0,   0,   0,   0,   0,   0,   0,   0,   0,   0,   0,   0,\n",
       "          0,   0,   0,   0,   0,   1,   0,   0,   4,   0,   0,   0,   0,\n",
       "          0,   0,   0,   0,   0,   0,   0,   0,   3,   0,   2,   0,   0,\n",
       "          0,   0,   0,   0,   0,   5,   0,   0,   0,   0,   0],\n",
       "       [  0,   0,   0,   0,   0,   0,   0,   0,   0,   0,   0,   0,   0,\n",
       "          0,   0,   0,   0,   0,   0,   0,   0,   6,   0,   1,   0,   0,\n",
       "          2,   0,   0,   0,   0,   0,   0,   0,   0,   0,   4,   0,   0,\n",
       "          0,   0,   0,   0,   0,   0,   5,   0,   0,   0,   0],\n",
       "       [  0,   0,   1,   0,   0,   0,   1,   0,   0,   0,   0,   0,   0,\n",
       "          0,   0,   0,   0,   0,   0,   0,   0,   2,   0,   0,   0,   1,\n",
       "          0,   0,   0,   0,   0,   0,   0,   0,   0,   0,   7,   0,   0,\n",
       "          0,   0,   0,   0,   1,   0,   0,   1,   0,   0,   0],\n",
       "       [  0,   0,   0,   1,   0,   0,   0,   0,   0,   0,   0,   0,   0,\n",
       "          0,   0,   0,   0,   0,   1,   0,   0,   3,   0,   0,   1,   0,\n",
       "          0,   0,   0,   0,   0,   0,   0,   0,   5,   0,   4,   1,   0,\n",
       "          0,   0,   0,   1,   1,   0,   0,   1,   8,   0,   0],\n",
       "       [  0,   0,   0,   0,   0,   0,   0,   0,   0,   0,   0,   0,   0,\n",
       "          0,   0,   0,   0,   0,   0,   0,   0,   3,   0,   0,   1,   0,\n",
       "          0,   1,   0,   0,   0,   0,   0,   1,   0,   0,  11,   0,   0,\n",
       "          0,   0,   0,   0,   0,   0,   0,   0,   0,   4,   0],\n",
       "       [  0,   0,   2,   0,   0,   1,   0,   0,   0,   0,   0,   0,   0,\n",
       "          0,   0,   1,   0,   0,   6,   0,   1,  14,   0,   0,   4,   0,\n",
       "          0,   0,   0,   0,   0,   0,   1,   0,   3,   0,  24,   0,   0,\n",
       "          0,   0,   0,   0,   2,   1,   1,   0,   0,   0,   1]])"
      ]
     },
     "execution_count": 20,
     "metadata": {},
     "output_type": "execute_result"
    }
   ],
   "source": [
    "confusion_matrix(y_test, y_pred)"
   ]
  },
  {
   "cell_type": "code",
   "execution_count": 21,
   "metadata": {},
   "outputs": [
    {
     "data": {
      "text/plain": [
       "<matplotlib.axes._subplots.AxesSubplot at 0x1a1c252990>"
      ]
     },
     "execution_count": 21,
     "metadata": {},
     "output_type": "execute_result"
    },
    {
     "data": {
      "image/png": "[encoded data removed]",
      "text/plain": [
       "<Figure size 432x288 with 2 Axes>"
      ]
     },
     "metadata": {
      "needs_background": "light"
     },
     "output_type": "display_data"
    }
   ],
   "source": [
    "sns.heatmap(confusion_matrix(y_test, y_pred))"
   ]
  },
  {
   "cell_type": "code",
   "execution_count": 22,
   "metadata": {},
   "outputs": [
    {
     "data": {
      "text/plain": [
       "0.25737477900860173"
      ]
     },
     "execution_count": 22,
     "metadata": {},
     "output_type": "execute_result"
    }
   ],
   "source": [
    "from sklearn.metrics import cohen_kappa_score\n",
    "cohen_score = cohen_kappa_score(y_test, y_pred)\n",
    "cohen_score"
   ]
  },
  {
   "cell_type": "markdown",
   "metadata": {},
   "source": [
    "## Do Nothing"
   ]
  },
  {
   "cell_type": "code",
   "execution_count": 188,
   "metadata": {},
   "outputs": [],
   "source": [
    "data_all = pd.read_csv('Meteorite_Landings.csv')"
   ]
  },
  {
   "cell_type": "code",
   "execution_count": 189,
   "metadata": {},
   "outputs": [],
   "source": [
    "data_all = data_all.drop(['name', 'id', 'GeoLocation'], axis = 1)"
   ]
  },
  {
   "cell_type": "code",
   "execution_count": 190,
   "metadata": {},
   "outputs": [],
   "source": [
    "data_all['recclass'] = data_all['recclass'].astype('category')\n",
    "data_all['recclass'] = data_all['recclass'].cat.codes"
   ]
  },
  {
   "cell_type": "code",
   "execution_count": 191,
   "metadata": {},
   "outputs": [],
   "source": [
    "name = {'Valid': 0, 'Relict': 1}\n",
    "data_all.nametype = [name[item] for item in data_all.nametype]"
   ]
  },
  {
   "cell_type": "code",
   "execution_count": 192,
   "metadata": {},
   "outputs": [],
   "source": [
    "falle = {'Fell': 0, 'Found': 1}\n",
    "data_all.fall = [falle[item] for item in data_all.fall]"
   ]
  },
  {
   "cell_type": "code",
   "execution_count": 193,
   "metadata": {},
   "outputs": [],
   "source": [
    "data_all['year'] = pd.to_datetime(data_all['year'], errors = 'coerce')\n",
    "data_all['year'] = data_all['year'].dt.year"
   ]
  },
  {
   "cell_type": "code",
   "execution_count": 194,
   "metadata": {},
   "outputs": [],
   "source": [
    "value_counts = data_all.recclass.value_counts()\n",
    "to_remove = value_counts[value_counts <= 50].index\n",
    "data_all = data_all[~data_all.recclass.isin(to_remove)]"
   ]
  },
  {
   "cell_type": "code",
   "execution_count": 195,
   "metadata": {},
   "outputs": [
    {
     "data": {
      "text/html": [
       "<div>\n",
       "<style scoped>\n",
       "    .dataframe tbody tr th:only-of-type {\n",
       "        vertical-align: middle;\n",
       "    }\n",
       "\n",
       "    .dataframe tbody tr th {\n",
       "        vertical-align: top;\n",
       "    }\n",
       "\n",
       "    .dataframe thead th {\n",
       "        text-align: right;\n",
       "    }\n",
       "</style>\n",
       "<table border=\"1\" class=\"dataframe\">\n",
       "  <thead>\n",
       "    <tr style=\"text-align: right;\">\n",
       "      <th></th>\n",
       "      <th>nametype</th>\n",
       "      <th>recclass</th>\n",
       "      <th>mass (g)</th>\n",
       "      <th>fall</th>\n",
       "      <th>year</th>\n",
       "      <th>reclat</th>\n",
       "      <th>reclong</th>\n",
       "    </tr>\n",
       "  </thead>\n",
       "  <tbody>\n",
       "    <tr>\n",
       "      <td>0</td>\n",
       "      <td>0</td>\n",
       "      <td>327</td>\n",
       "      <td>21.0</td>\n",
       "      <td>0</td>\n",
       "      <td>1880.0</td>\n",
       "      <td>50.77500</td>\n",
       "      <td>6.08333</td>\n",
       "    </tr>\n",
       "    <tr>\n",
       "      <td>1</td>\n",
       "      <td>0</td>\n",
       "      <td>191</td>\n",
       "      <td>720.0</td>\n",
       "      <td>0</td>\n",
       "      <td>1951.0</td>\n",
       "      <td>56.18333</td>\n",
       "      <td>10.23333</td>\n",
       "    </tr>\n",
       "    <tr>\n",
       "      <td>3</td>\n",
       "      <td>0</td>\n",
       "      <td>0</td>\n",
       "      <td>1914.0</td>\n",
       "      <td>0</td>\n",
       "      <td>1976.0</td>\n",
       "      <td>16.88333</td>\n",
       "      <td>-99.90000</td>\n",
       "    </tr>\n",
       "    <tr>\n",
       "      <td>4</td>\n",
       "      <td>0</td>\n",
       "      <td>333</td>\n",
       "      <td>780.0</td>\n",
       "      <td>0</td>\n",
       "      <td>1902.0</td>\n",
       "      <td>-33.16667</td>\n",
       "      <td>-64.95000</td>\n",
       "    </tr>\n",
       "    <tr>\n",
       "      <td>7</td>\n",
       "      <td>0</td>\n",
       "      <td>184</td>\n",
       "      <td>30000.0</td>\n",
       "      <td>0</td>\n",
       "      <td>1814.0</td>\n",
       "      <td>44.21667</td>\n",
       "      <td>0.61667</td>\n",
       "    </tr>\n",
       "    <tr>\n",
       "      <td>...</td>\n",
       "      <td>...</td>\n",
       "      <td>...</td>\n",
       "      <td>...</td>\n",
       "      <td>...</td>\n",
       "      <td>...</td>\n",
       "      <td>...</td>\n",
       "      <td>...</td>\n",
       "    </tr>\n",
       "    <tr>\n",
       "      <td>45709</td>\n",
       "      <td>0</td>\n",
       "      <td>204</td>\n",
       "      <td>100000.0</td>\n",
       "      <td>1</td>\n",
       "      <td>1981.0</td>\n",
       "      <td>31.20000</td>\n",
       "      <td>112.50000</td>\n",
       "    </tr>\n",
       "    <tr>\n",
       "      <td>45710</td>\n",
       "      <td>0</td>\n",
       "      <td>333</td>\n",
       "      <td>1475.0</td>\n",
       "      <td>1</td>\n",
       "      <td>1990.0</td>\n",
       "      <td>29.03700</td>\n",
       "      <td>17.01850</td>\n",
       "    </tr>\n",
       "    <tr>\n",
       "      <td>45711</td>\n",
       "      <td>0</td>\n",
       "      <td>103</td>\n",
       "      <td>172.0</td>\n",
       "      <td>1</td>\n",
       "      <td>1990.0</td>\n",
       "      <td>29.03700</td>\n",
       "      <td>17.01850</td>\n",
       "    </tr>\n",
       "    <tr>\n",
       "      <td>45713</td>\n",
       "      <td>0</td>\n",
       "      <td>175</td>\n",
       "      <td>3.3</td>\n",
       "      <td>1</td>\n",
       "      <td>1939.0</td>\n",
       "      <td>49.25000</td>\n",
       "      <td>17.66667</td>\n",
       "    </tr>\n",
       "    <tr>\n",
       "      <td>45714</td>\n",
       "      <td>0</td>\n",
       "      <td>333</td>\n",
       "      <td>2167.0</td>\n",
       "      <td>1</td>\n",
       "      <td>2003.0</td>\n",
       "      <td>49.78917</td>\n",
       "      <td>41.50460</td>\n",
       "    </tr>\n",
       "  </tbody>\n",
       "</table>\n",
       "<p>42614 rows × 7 columns</p>\n",
       "</div>"
      ],
      "text/plain": [
       "       nametype  recclass  mass (g)  fall    year    reclat    reclong\n",
       "0             0       327      21.0     0  1880.0  50.77500    6.08333\n",
       "1             0       191     720.0     0  1951.0  56.18333   10.23333\n",
       "3             0         0    1914.0     0  1976.0  16.88333  -99.90000\n",
       "4             0       333     780.0     0  1902.0 -33.16667  -64.95000\n",
       "7             0       184   30000.0     0  1814.0  44.21667    0.61667\n",
       "...         ...       ...       ...   ...     ...       ...        ...\n",
       "45709         0       204  100000.0     1  1981.0  31.20000  112.50000\n",
       "45710         0       333    1475.0     1  1990.0  29.03700   17.01850\n",
       "45711         0       103     172.0     1  1990.0  29.03700   17.01850\n",
       "45713         0       175       3.3     1  1939.0  49.25000   17.66667\n",
       "45714         0       333    2167.0     1  2003.0  49.78917   41.50460\n",
       "\n",
       "[42614 rows x 7 columns]"
      ]
     },
     "execution_count": 195,
     "metadata": {},
     "output_type": "execute_result"
    }
   ],
   "source": [
    "data_all"
   ]
  },
  {
   "cell_type": "code",
   "execution_count": 196,
   "metadata": {},
   "outputs": [],
   "source": [
    "y = data_all['recclass']\n",
    "X = data_all.drop('recclass', axis = 1)"
   ]
  },
  {
   "cell_type": "code",
   "execution_count": 197,
   "metadata": {},
   "outputs": [],
   "source": [
    "X_train, X_test, y_train, y_test = train_test_split(X, y, random_state=420)"
   ]
  },
  {
   "cell_type": "code",
   "execution_count": 198,
   "metadata": {},
   "outputs": [],
   "source": [
    "clf = LGBMClassifier()\n",
    "clf.fit(X_train, y_train)\n",
    "y_pred = clf.predict(X_test)"
   ]
  },
  {
   "cell_type": "code",
   "execution_count": 200,
   "metadata": {},
   "outputs": [
    {
     "data": {
      "text/plain": [
       "0.14351083291571465"
      ]
     },
     "execution_count": 200,
     "metadata": {},
     "output_type": "execute_result"
    }
   ],
   "source": [
    "from sklearn.metrics import cohen_kappa_score\n",
    "cohen_score = cohen_kappa_score(y_test, y_pred)\n",
    "cohen_score"
   ]
  },
  {
   "cell_type": "markdown",
   "metadata": {},
   "source": [
    "## Imputation Using (Mean/Median)"
   ]
  },
  {
   "cell_type": "markdown",
   "metadata": {},
   "source": [
    "Mean"
   ]
  },
  {
   "cell_type": "code",
   "execution_count": 201,
   "metadata": {},
   "outputs": [],
   "source": [
    "from sklearn.impute import SimpleImputer\n",
    "imp_mean = SimpleImputer(strategy='mean') \n",
    "\n",
    "imp_mean.fit(X)\n",
    "X_mean = imp_mean.transform(X)"
   ]
  },
  {
   "cell_type": "code",
   "execution_count": 202,
   "metadata": {},
   "outputs": [],
   "source": [
    "X_train, X_test, y_train, y_test = train_test_split(X_mean, y, random_state=420)"
   ]
  },
  {
   "cell_type": "code",
   "execution_count": 203,
   "metadata": {},
   "outputs": [],
   "source": [
    "clf = LGBMClassifier()\n",
    "clf.fit(X_train, y_train)\n",
    "y_pred = clf.predict(X_test)"
   ]
  },
  {
   "cell_type": "code",
   "execution_count": 204,
   "metadata": {},
   "outputs": [
    {
     "data": {
      "text/plain": [
       "0.16414962516898546"
      ]
     },
     "execution_count": 204,
     "metadata": {},
     "output_type": "execute_result"
    }
   ],
   "source": [
    "cohen_score = cohen_kappa_score(y_test, y_pred)\n",
    "cohen_score"
   ]
  },
  {
   "cell_type": "markdown",
   "metadata": {},
   "source": [
    "Median"
   ]
  },
  {
   "cell_type": "code",
   "execution_count": 205,
   "metadata": {},
   "outputs": [],
   "source": [
    "imp_mean = SimpleImputer(strategy='median') \n",
    "\n",
    "imp_mean.fit(X)\n",
    "X_median = imp_mean.transform(X)\n",
    "\n",
    "X_train, X_test, y_train, y_test = train_test_split(X_median, y, random_state=420)\n",
    "\n",
    "clf = LGBMClassifier()\n",
    "clf.fit(X_train, y_train)\n",
    "y_pred = clf.predict(X_test)"
   ]
  },
  {
   "cell_type": "code",
   "execution_count": 206,
   "metadata": {},
   "outputs": [
    {
     "data": {
      "text/plain": [
       "0.25258297797052986"
      ]
     },
     "execution_count": 206,
     "metadata": {},
     "output_type": "execute_result"
    }
   ],
   "source": [
    "cohen_score = cohen_kappa_score(y_test, y_pred)\n",
    "cohen_score"
   ]
  },
  {
   "cell_type": "markdown",
   "metadata": {},
   "source": [
    "Most Frequent"
   ]
  },
  {
   "cell_type": "code",
   "execution_count": 207,
   "metadata": {},
   "outputs": [],
   "source": [
    "imp_mean = SimpleImputer(strategy='most_frequent') \n",
    "\n",
    "imp_mean.fit(X)\n",
    "X_most_fr = imp_mean.transform(X)\n",
    "\n",
    "X_train, X_test, y_train, y_test = train_test_split(X_most_fr, y, random_state=420)\n",
    "\n",
    "clf = LGBMClassifier()\n",
    "clf.fit(X_train, y_train)\n",
    "y_pred = clf.predict(X_test)"
   ]
  },
  {
   "cell_type": "code",
   "execution_count": 208,
   "metadata": {},
   "outputs": [
    {
     "data": {
      "text/plain": [
       "0.25722371260881216"
      ]
     },
     "execution_count": 208,
     "metadata": {},
     "output_type": "execute_result"
    }
   ],
   "source": [
    "cohen_score = cohen_kappa_score(y_test, y_pred)\n",
    "cohen_score"
   ]
  },
  {
   "cell_type": "markdown",
   "metadata": {},
   "source": [
    "## Imputation Using k-NN"
   ]
  },
  {
   "cell_type": "code",
   "execution_count": 209,
   "metadata": {},
   "outputs": [],
   "source": [
    "import sys\n",
    "from impyute.imputation.cs import fast_knn\n",
    "\n",
    "X_knn=fast_knn(X.values, k = 100)"
   ]
  },
  {
   "cell_type": "code",
   "execution_count": 210,
   "metadata": {},
   "outputs": [],
   "source": [
    "X_train, X_test, y_train, y_test = train_test_split(X_knn, y, random_state=420)\n",
    "\n",
    "clf = LGBMClassifier()\n",
    "clf.fit(X_train, y_train)\n",
    "y_pred = clf.predict(X_test)"
   ]
  },
  {
   "cell_type": "code",
   "execution_count": 211,
   "metadata": {},
   "outputs": [
    {
     "data": {
      "text/plain": [
       "0.1753646572988301"
      ]
     },
     "execution_count": 211,
     "metadata": {},
     "output_type": "execute_result"
    }
   ],
   "source": [
    "cohen_score = cohen_kappa_score(y_test, y_pred)\n",
    "cohen_score"
   ]
  },
  {
   "cell_type": "code",
   "execution_count": 212,
   "metadata": {},
   "outputs": [
    {
     "data": {
      "text/plain": [
       "0.2278109835996741"
      ]
     },
     "execution_count": 212,
     "metadata": {},
     "output_type": "execute_result"
    }
   ],
   "source": [
    "X_knn=fast_knn(X.values, k = 300)\n",
    "\n",
    "X_train, X_test, y_train, y_test = train_test_split(X_knn, y, random_state=420)\n",
    "\n",
    "clf = LGBMClassifier()\n",
    "clf.fit(X_train, y_train)\n",
    "y_pred = clf.predict(X_test)\n",
    "\n",
    "cohen_score = cohen_kappa_score(y_test, y_pred)\n",
    "cohen_score"
   ]
  },
  {
   "cell_type": "markdown",
   "metadata": {},
   "source": [
    "##  Imputation Using Multivariate Imputation by Chained Equation (MICE)"
   ]
  },
  {
   "cell_type": "code",
   "execution_count": 117,
   "metadata": {},
   "outputs": [
    {
     "name": "stderr",
     "output_type": "stream",
     "text": [
      "/Users/aleksandrberezutskii/opt/anaconda3/lib/python3.7/site-packages/impyute/util/preprocess.py:52: FutureWarning: Method .as_matrix will be removed in a future version. Use .values instead.\n",
      "  args[0] = args[0].as_matrix()\n"
     ]
    },
    {
     "data": {
      "text/plain": [
       "0.25584054418351987"
      ]
     },
     "execution_count": 117,
     "metadata": {},
     "output_type": "execute_result"
    }
   ],
   "source": [
    "from impyute.imputation.cs import mice\n",
    "\n",
    "X_mice = mice(X)\n",
    "\n",
    "X_train, X_test, y_train, y_test = train_test_split(X_mice, y, random_state=420)\n",
    "\n",
    "clf = LGBMClassifier()\n",
    "clf.fit(X_train, y_train)\n",
    "y_pred = clf.predict(X_test)\n",
    "\n",
    "cohen_score = cohen_kappa_score(y_test, y_pred)\n",
    "cohen_score"
   ]
  },
  {
   "cell_type": "markdown",
   "metadata": {},
   "source": [
    "## Using Regression to impute missing data"
   ]
  },
  {
   "cell_type": "code",
   "execution_count": 152,
   "metadata": {},
   "outputs": [],
   "source": [
    "from sklearn import linear_model"
   ]
  },
  {
   "cell_type": "code",
   "execution_count": 153,
   "metadata": {},
   "outputs": [
    {
     "data": {
      "text/plain": [
       "nametype    False\n",
       "recclass    False\n",
       "mass (g)     True\n",
       "fall        False\n",
       "year         True\n",
       "reclat       True\n",
       "reclong      True\n",
       "dtype: bool"
      ]
     },
     "execution_count": 153,
     "metadata": {},
     "output_type": "execute_result"
    }
   ],
   "source": [
    "data_all.isna().any()"
   ]
  },
  {
   "cell_type": "code",
   "execution_count": 171,
   "metadata": {},
   "outputs": [],
   "source": [
    "def random_imputation(df, feature):\n",
    "\n",
    "    number_missing = df[feature].isnull().sum()\n",
    "    observed_values = df.loc[df[feature].notnull(), feature]\n",
    "    df.loc[df[feature].isnull(), feature + '_imp'] = np.random.choice(observed_values, number_missing, replace = True)\n",
    "    \n",
    "    return df"
   ]
  },
  {
   "cell_type": "code",
   "execution_count": 178,
   "metadata": {},
   "outputs": [],
   "source": [
    "missing_columns = ['nametype','mass (g)', 'fall', 'year', 'reclat', 'reclong']\n"
   ]
  },
  {
   "cell_type": "code",
   "execution_count": 179,
   "metadata": {},
   "outputs": [],
   "source": [
    "for feature in missing_columns:\n",
    "    data_all[feature + '_imp'] = data_all[feature]\n",
    "    data_all = random_imputation(data_all, feature)"
   ]
  },
  {
   "cell_type": "code",
   "execution_count": 180,
   "metadata": {},
   "outputs": [],
   "source": [
    "deter_data = pd.DataFrame(columns = [\"Det\" + name for name in missing_columns])\n",
    "\n",
    "for feature in missing_columns:\n",
    "        \n",
    "    deter_data[\"Det\" + feature] = data_all[feature + \"_imp\"]\n",
    "    parameters = list(set(data_all.columns) - set(missing_columns) - {feature + '_imp'})\n",
    "    \n",
    "    #Create a Linear Regression model to estimate the missing data\n",
    "    model = linear_model.LinearRegression()\n",
    "    model.fit(X = data_all[parameters], y = data_all[feature + '_imp'])\n",
    "    \n",
    "    #observe that I preserve the index of the missing data from the original dataframe\n",
    "    deter_data.loc[data_all[feature].isnull(), \"Det\" + feature] = model.predict(data_all[parameters])[data_all[feature].isnull()]"
   ]
  },
  {
   "cell_type": "code",
   "execution_count": 182,
   "metadata": {},
   "outputs": [
    {
     "data": {
      "text/html": [
       "<div>\n",
       "<style scoped>\n",
       "    .dataframe tbody tr th:only-of-type {\n",
       "        vertical-align: middle;\n",
       "    }\n",
       "\n",
       "    .dataframe tbody tr th {\n",
       "        vertical-align: top;\n",
       "    }\n",
       "\n",
       "    .dataframe thead th {\n",
       "        text-align: right;\n",
       "    }\n",
       "</style>\n",
       "<table border=\"1\" class=\"dataframe\">\n",
       "  <thead>\n",
       "    <tr style=\"text-align: right;\">\n",
       "      <th></th>\n",
       "      <th>Detnametype</th>\n",
       "      <th>Detmass (g)</th>\n",
       "      <th>Detfall</th>\n",
       "      <th>Detyear</th>\n",
       "      <th>Detreclat</th>\n",
       "      <th>Detreclong</th>\n",
       "    </tr>\n",
       "  </thead>\n",
       "  <tbody>\n",
       "    <tr>\n",
       "      <td>0</td>\n",
       "      <td>0.0</td>\n",
       "      <td>21.0</td>\n",
       "      <td>0.0</td>\n",
       "      <td>1880.0</td>\n",
       "      <td>50.77500</td>\n",
       "      <td>6.08333</td>\n",
       "    </tr>\n",
       "    <tr>\n",
       "      <td>1</td>\n",
       "      <td>0.0</td>\n",
       "      <td>720.0</td>\n",
       "      <td>0.0</td>\n",
       "      <td>1951.0</td>\n",
       "      <td>56.18333</td>\n",
       "      <td>10.23333</td>\n",
       "    </tr>\n",
       "    <tr>\n",
       "      <td>3</td>\n",
       "      <td>0.0</td>\n",
       "      <td>1914.0</td>\n",
       "      <td>0.0</td>\n",
       "      <td>1976.0</td>\n",
       "      <td>16.88333</td>\n",
       "      <td>-99.90000</td>\n",
       "    </tr>\n",
       "    <tr>\n",
       "      <td>4</td>\n",
       "      <td>0.0</td>\n",
       "      <td>780.0</td>\n",
       "      <td>0.0</td>\n",
       "      <td>1902.0</td>\n",
       "      <td>-33.16667</td>\n",
       "      <td>-64.95000</td>\n",
       "    </tr>\n",
       "    <tr>\n",
       "      <td>7</td>\n",
       "      <td>0.0</td>\n",
       "      <td>30000.0</td>\n",
       "      <td>0.0</td>\n",
       "      <td>1814.0</td>\n",
       "      <td>44.21667</td>\n",
       "      <td>0.61667</td>\n",
       "    </tr>\n",
       "    <tr>\n",
       "      <td>...</td>\n",
       "      <td>...</td>\n",
       "      <td>...</td>\n",
       "      <td>...</td>\n",
       "      <td>...</td>\n",
       "      <td>...</td>\n",
       "      <td>...</td>\n",
       "    </tr>\n",
       "    <tr>\n",
       "      <td>45709</td>\n",
       "      <td>0.0</td>\n",
       "      <td>100000.0</td>\n",
       "      <td>1.0</td>\n",
       "      <td>1981.0</td>\n",
       "      <td>31.20000</td>\n",
       "      <td>112.50000</td>\n",
       "    </tr>\n",
       "    <tr>\n",
       "      <td>45710</td>\n",
       "      <td>0.0</td>\n",
       "      <td>1475.0</td>\n",
       "      <td>1.0</td>\n",
       "      <td>1990.0</td>\n",
       "      <td>29.03700</td>\n",
       "      <td>17.01850</td>\n",
       "    </tr>\n",
       "    <tr>\n",
       "      <td>45711</td>\n",
       "      <td>0.0</td>\n",
       "      <td>172.0</td>\n",
       "      <td>1.0</td>\n",
       "      <td>1990.0</td>\n",
       "      <td>29.03700</td>\n",
       "      <td>17.01850</td>\n",
       "    </tr>\n",
       "    <tr>\n",
       "      <td>45713</td>\n",
       "      <td>0.0</td>\n",
       "      <td>3.3</td>\n",
       "      <td>1.0</td>\n",
       "      <td>1939.0</td>\n",
       "      <td>49.25000</td>\n",
       "      <td>17.66667</td>\n",
       "    </tr>\n",
       "    <tr>\n",
       "      <td>45714</td>\n",
       "      <td>0.0</td>\n",
       "      <td>2167.0</td>\n",
       "      <td>1.0</td>\n",
       "      <td>2003.0</td>\n",
       "      <td>49.78917</td>\n",
       "      <td>41.50460</td>\n",
       "    </tr>\n",
       "  </tbody>\n",
       "</table>\n",
       "<p>42614 rows × 6 columns</p>\n",
       "</div>"
      ],
      "text/plain": [
       "       Detnametype  Detmass (g)  Detfall  Detyear  Detreclat  Detreclong\n",
       "0              0.0         21.0      0.0   1880.0   50.77500     6.08333\n",
       "1              0.0        720.0      0.0   1951.0   56.18333    10.23333\n",
       "3              0.0       1914.0      0.0   1976.0   16.88333   -99.90000\n",
       "4              0.0        780.0      0.0   1902.0  -33.16667   -64.95000\n",
       "7              0.0      30000.0      0.0   1814.0   44.21667     0.61667\n",
       "...            ...          ...      ...      ...        ...         ...\n",
       "45709          0.0     100000.0      1.0   1981.0   31.20000   112.50000\n",
       "45710          0.0       1475.0      1.0   1990.0   29.03700    17.01850\n",
       "45711          0.0        172.0      1.0   1990.0   29.03700    17.01850\n",
       "45713          0.0          3.3      1.0   1939.0   49.25000    17.66667\n",
       "45714          0.0       2167.0      1.0   2003.0   49.78917    41.50460\n",
       "\n",
       "[42614 rows x 6 columns]"
      ]
     },
     "execution_count": 182,
     "metadata": {},
     "output_type": "execute_result"
    }
   ],
   "source": [
    "deter_data"
   ]
  },
  {
   "cell_type": "code",
   "execution_count": 183,
   "metadata": {},
   "outputs": [
    {
     "data": {
      "text/plain": [
       "0.2243739851298161"
      ]
     },
     "execution_count": 183,
     "metadata": {},
     "output_type": "execute_result"
    }
   ],
   "source": [
    "X_train, X_test, y_train, y_test = train_test_split(deter_data, y, random_state=420)\n",
    "\n",
    "clf = LGBMClassifier()\n",
    "clf.fit(X_train, y_train)\n",
    "y_pred = clf.predict(X_test)\n",
    "\n",
    "cohen_score = cohen_kappa_score(y_test, y_pred)\n",
    "cohen_score"
   ]
  },
  {
   "cell_type": "markdown",
   "metadata": {},
   "source": [
    "## Stochastic Regression Imputation (Hot-Deck imputation)"
   ]
  },
  {
   "cell_type": "code",
   "execution_count": 186,
   "metadata": {},
   "outputs": [],
   "source": [
    "random_data = pd.DataFrame(columns = [\"Ran\" + name for name in missing_columns])\n",
    "\n",
    "for feature in missing_columns:\n",
    "        \n",
    "    random_data[\"Ran\" + feature] = data_all[feature + '_imp']\n",
    "    parameters = list(set(data_all.columns) - set(missing_columns) - {feature + '_imp'})\n",
    "    \n",
    "    model = linear_model.LinearRegression()\n",
    "    model.fit(X = data_all[parameters], y = data_all[feature + '_imp'])\n",
    "    \n",
    "    #Standard Error of the regression estimates is equal to std() of the errors of each estimates\n",
    "    predict = model.predict(data_all[parameters])\n",
    "    std_error = (predict[data_all[feature].notnull()] - data_all.loc[data_all[feature].notnull(), feature + '_imp']).std()\n",
    "    \n",
    "    #observe that I preserve the index of the missing data from the original dataframe\n",
    "    random_predict = np.random.normal(size = data_all[feature].shape[0], \n",
    "                                      loc = predict, \n",
    "                                      scale = std_error)\n",
    "    random_data.loc[(data_all[feature].isnull()) & (random_predict > 0), \"Ran\" + feature] = random_predict[(data_all[feature].isnull()) & \n",
    "                                                                            (random_predict > 0)]\n"
   ]
  },
  {
   "cell_type": "code",
   "execution_count": 187,
   "metadata": {},
   "outputs": [
    {
     "data": {
      "text/plain": [
       "0.24841735744960258"
      ]
     },
     "execution_count": 187,
     "metadata": {},
     "output_type": "execute_result"
    }
   ],
   "source": [
    "X_train, X_test, y_train, y_test = train_test_split(random_data, y, random_state=420)\n",
    "\n",
    "clf = LGBMClassifier()\n",
    "clf.fit(X_train, y_train)\n",
    "y_pred = clf.predict(X_test)\n",
    "\n",
    "cohen_score = cohen_kappa_score(y_test, y_pred)\n",
    "cohen_score"
   ]
  },
  {
   "cell_type": "code",
   "execution_count": null,
   "metadata": {},
   "outputs": [],
   "source": []
  }
 ],
 "metadata": {
  "kernelspec": {
   "display_name": "Python 3",
   "language": "python",
   "name": "python3"
  },
  "language_info": {
   "codemirror_mode": {
    "name": "ipython",
    "version": 3
   },
   "file_extension": ".py",
   "mimetype": "text/x-python",
   "name": "python",
   "nbconvert_exporter": "python",
   "pygments_lexer": "ipython3",
   "version": "3.7.4"
  }
 },
 "nbformat": 4,
 "nbformat_minor": 2
}
